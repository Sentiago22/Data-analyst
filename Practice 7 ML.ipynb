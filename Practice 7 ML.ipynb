{
  "nbformat": 4,
  "nbformat_minor": 0,
  "metadata": {
    "colab": {
      "provenance": [],
      "authorship_tag": "ABX9TyOOJ2LjG7sb8lcIprSyh2M0",
      "include_colab_link": true
    },
    "kernelspec": {
      "name": "python3",
      "display_name": "Python 3"
    },
    "language_info": {
      "name": "python"
    }
  },
  "cells": [
    {
      "cell_type": "markdown",
      "metadata": {
        "id": "view-in-github",
        "colab_type": "text"
      },
      "source": [
        "<a href=\"https://colab.research.google.com/github/Sentiago22/Data-analyst/blob/main/Practice%207%20ML.ipynb\" target=\"_parent\"><img src=\"https://colab.research.google.com/assets/colab-badge.svg\" alt=\"Open In Colab\"/></a>"
      ]
    },
    {
      "cell_type": "code",
      "source": [
        "# STEP 1: Mount Google Drive\n",
        "from google.colab import drive\n",
        "drive.mount('/content/drive')"
      ],
      "metadata": {
        "colab": {
          "base_uri": "https://localhost:8080/"
        },
        "id": "y9tsHzhuLYCl",
        "outputId": "cd2a755e-0e60-49ab-f959-579e3ad98d76"
      },
      "execution_count": 36,
      "outputs": [
        {
          "output_type": "stream",
          "name": "stdout",
          "text": [
            "Drive already mounted at /content/drive; to attempt to forcibly remount, call drive.mount(\"/content/drive\", force_remount=True).\n"
          ]
        }
      ]
    },
    {
      "cell_type": "code",
      "source": [
        "import os\n",
        "import re\n",
        "\n",
        "# Function to extract texts and corresponding author names from files\n",
        "def extract_texts_and_authors_from_files(base_path):\n",
        "    texts = []    # List to store the full text content\n",
        "    authors = []  # List to store extracted author names\n",
        "\n",
        "    for root, dirs, files in os.walk(base_path):\n",
        "        for file in files:\n",
        "            if file.endswith(\".txt\"):\n",
        "                # Use regular expression to extract author name from filename (inside parentheses)\n",
        "                match = re.search(r\"\\((.*?)\\)\", file)\n",
        "                author = match.group(1).strip() if match else \"Unknown\"\n",
        "\n",
        "                file_path = os.path.join(root, file)\n",
        "                try:\n",
        "                    with open(file_path, \"r\", encoding=\"utf-8\") as f:\n",
        "                        text = f.read()\n",
        "                        texts.append(text)\n",
        "                        authors.append(author)\n",
        "                except Exception as e:\n",
        "                    print(f\"Failed to read {file_path}: {e}\")\n",
        "\n",
        "    return texts, authors\n",
        "\n",
        "# Apply the function to the folder containing texts\n",
        "texts, classes = extract_texts_and_authors_from_files('/content/texts')\n",
        "\n",
        "# Print the number of samples and unique authors\n",
        "print(f\"Total text samples loaded: {len(texts)}\")\n",
        "print(f\"Unique authors found: {len(set(classes))}\")\n",
        "print(\"Sample author names:\", list(set(classes))[:10])\n"
      ],
      "metadata": {
        "colab": {
          "base_uri": "https://localhost:8080/"
        },
        "id": "6lgkzsxTRc9t",
        "outputId": "53805370-7042-41f6-e653-cedba42df27e"
      },
      "execution_count": 37,
      "outputs": [
        {
          "output_type": "stream",
          "name": "stdout",
          "text": [
            "Total text samples loaded: 12\n",
            "Unique authors found: 6\n",
            "Sample author names: ['Клиффорд_Саймак', 'Макс Фрай', 'Булгаков', 'Стругацкие', 'О. Генри', 'Рэй Брэдберри']\n"
          ]
        }
      ]
    },
    {
      "cell_type": "code",
      "source": [
        "from collections import Counter\n",
        "print(\"Samples per author:\")\n",
        "print(Counter(classes))"
      ],
      "metadata": {
        "colab": {
          "base_uri": "https://localhost:8080/"
        },
        "id": "07f3gKMoV4Cj",
        "outputId": "7bef01d1-a18a-41e9-ae61-973842ccb402"
      },
      "execution_count": 38,
      "outputs": [
        {
          "output_type": "stream",
          "name": "stdout",
          "text": [
            "Samples per author:\n",
            "Counter({'Рэй Брэдберри': 2, 'Клиффорд_Саймак': 2, 'О. Генри': 2, 'Стругацкие': 2, 'Булгаков': 2, 'Макс Фрай': 2})\n"
          ]
        }
      ]
    },
    {
      "cell_type": "markdown",
      "source": [
        "**А. Запустите нейронку c bag of words (01) при разных maxWordsCount**\n",
        "\n",
        "1. 100\n",
        "\n",
        "2. 1000\n",
        "\n",
        "3. 10000"
      ],
      "metadata": {
        "id": "JhCvpahbRyzy"
      }
    },
    {
      "cell_type": "code",
      "source": [
        "import numpy as np\n",
        "from sklearn.preprocessing import LabelEncoder\n",
        "from tensorflow.keras.preprocessing.text import Tokenizer\n",
        "from tensorflow.keras.utils import to_categorical\n",
        "from tensorflow.keras.models import Sequential\n",
        "from tensorflow.keras.layers import Dense, Dropout\n",
        "from sklearn.model_selection import StratifiedKFold"
      ],
      "metadata": {
        "id": "LWhzLd5qL0KR"
      },
      "execution_count": 39,
      "outputs": []
    },
    {
      "cell_type": "code",
      "source": [
        "# 2. Load data\n",
        "texts, classes = extract_texts_and_authors_from_files(\"/content/texts\")\n",
        "print(f\"Loaded {len(texts)} texts from {len(set(classes))} authors\")\n",
        "\n",
        "# 3. Encode class labels\n",
        "encoder = LabelEncoder()\n",
        "y_all = encoder.fit_transform(classes)\n",
        "num_classes = len(set(classes))\n",
        "\n",
        "# 4. Try different maxWordsCount\n",
        "max_words_list = [100, 1000, 10000]\n",
        "\n",
        "for maxWordsCount in max_words_list:\n",
        "    print(f\"\\nRunning model with maxWordsCount = {maxWordsCount}\")\n",
        "\n",
        "    # Bag-of-Words (binary)\n",
        "    tokenizer = Tokenizer(num_words=maxWordsCount, oov_token='unknown')\n",
        "    tokenizer.fit_on_texts(texts)\n",
        "    X_all = tokenizer.texts_to_matrix(texts, mode='binary')  # Binary BoW\n",
        "    y_all_cat = to_categorical(y_all, num_classes=num_classes)\n",
        "\n",
        "    # Use Stratified K-Fold (3 folds for 12 samples)\n",
        "    skf = StratifiedKFold(n_splits=2, shuffle=True, random_state=42)\n",
        "    fold_accuracies = []\n",
        "\n",
        "    for train_index, test_index in skf.split(X_all, y_all):\n",
        "        X_train, X_test = X_all[train_index], X_all[test_index]\n",
        "        y_train, y_test = y_all_cat[train_index], y_all_cat[test_index]\n",
        "\n",
        "        model = Sequential()\n",
        "        model.add(Dense(64, input_shape=(maxWordsCount,), activation='relu'))\n",
        "        model.add(Dropout(0.2))\n",
        "        model.add(Dense(32, activation='relu'))\n",
        "        model.add(Dense(num_classes, activation='softmax'))\n",
        "\n",
        "        model.compile(optimizer='adam', loss='categorical_crossentropy', metrics=['accuracy'])\n",
        "        model.fit(X_train, y_train, epochs=25, batch_size=2, verbose=0)\n",
        "        _, acc = model.evaluate(X_test, y_test, verbose=0)\n",
        "        fold_accuracies.append(acc)\n",
        "\n",
        "    avg_acc = np.mean(fold_accuracies)\n",
        "    print(f\"Average accuracy (3-Fold CV): {avg_acc:.4f}\")"
      ],
      "metadata": {
        "colab": {
          "base_uri": "https://localhost:8080/"
        },
        "id": "-KyixAUFL3Aa",
        "outputId": "a0eb8c41-17dc-46ea-d1e4-b8ea6d231751"
      },
      "execution_count": 42,
      "outputs": [
        {
          "output_type": "stream",
          "name": "stdout",
          "text": [
            "Loaded 12 texts from 6 authors\n",
            "\n",
            "Running model with maxWordsCount = 100\n"
          ]
        },
        {
          "output_type": "stream",
          "name": "stderr",
          "text": [
            "/usr/local/lib/python3.11/dist-packages/keras/src/layers/core/dense.py:87: UserWarning: Do not pass an `input_shape`/`input_dim` argument to a layer. When using Sequential models, prefer using an `Input(shape)` object as the first layer in the model instead.\n",
            "  super().__init__(activity_regularizer=activity_regularizer, **kwargs)\n"
          ]
        },
        {
          "output_type": "stream",
          "name": "stdout",
          "text": [
            "Average accuracy (3-Fold CV): 0.0833\n",
            "\n",
            "Running model with maxWordsCount = 1000\n"
          ]
        },
        {
          "output_type": "stream",
          "name": "stderr",
          "text": [
            "/usr/local/lib/python3.11/dist-packages/keras/src/layers/core/dense.py:87: UserWarning: Do not pass an `input_shape`/`input_dim` argument to a layer. When using Sequential models, prefer using an `Input(shape)` object as the first layer in the model instead.\n",
            "  super().__init__(activity_regularizer=activity_regularizer, **kwargs)\n"
          ]
        },
        {
          "output_type": "stream",
          "name": "stdout",
          "text": [
            "Average accuracy (3-Fold CV): 0.2500\n",
            "\n",
            "Running model with maxWordsCount = 10000\n"
          ]
        },
        {
          "output_type": "stream",
          "name": "stderr",
          "text": [
            "/usr/local/lib/python3.11/dist-packages/keras/src/layers/core/dense.py:87: UserWarning: Do not pass an `input_shape`/`input_dim` argument to a layer. When using Sequential models, prefer using an `Input(shape)` object as the first layer in the model instead.\n",
            "  super().__init__(activity_regularizer=activity_regularizer, **kwargs)\n"
          ]
        },
        {
          "output_type": "stream",
          "name": "stdout",
          "text": [
            "Average accuracy (3-Fold CV): 0.4167\n"
          ]
        }
      ]
    },
    {
      "cell_type": "markdown",
      "source": [
        "**Б. Запустите нейронку c bag of words  при maxWordsCount = 10000 и разных архитектурах**\n",
        "\n",
        "1. Поменяйте количество нейронов в слоях\n",
        "\n",
        "2. Поменяйте количество слоев\n",
        "\n",
        "3. Поменяйте активационные функции слоев"
      ],
      "metadata": {
        "id": "JXSY4I9oNsbg"
      }
    },
    {
      "cell_type": "code",
      "source": [
        "from sklearn.model_selection import StratifiedKFold\n",
        "from tensorflow.keras.models import Sequential\n",
        "from tensorflow.keras.layers import Dense, Dropout\n",
        "from tensorflow.keras.preprocessing.text import Tokenizer\n",
        "from tensorflow.keras.utils import to_categorical\n",
        "from sklearn.preprocessing import LabelEncoder"
      ],
      "metadata": {
        "id": "GkEI6Gr8Nwsd"
      },
      "execution_count": 43,
      "outputs": []
    },
    {
      "cell_type": "code",
      "source": [
        "# Load data\n",
        "texts, classes = extract_texts_and_authors_from_files('/content/texts')\n",
        "print(f\"Loaded {len(texts)} texts from {len(set(classes))} authors\")\n",
        "\n",
        "# Encode labels\n",
        "encoder = LabelEncoder()\n",
        "y_all = encoder.fit_transform(classes)\n",
        "y_all_cat = to_categorical(y_all)\n",
        "num_classes = y_all_cat.shape[1]\n",
        "\n",
        "# Tokenize with maxWordsCount = 10000\n",
        "maxWordsCount = 10000\n",
        "tokenizer = Tokenizer(num_words=maxWordsCount, oov_token='unknown')\n",
        "tokenizer.fit_on_texts(texts)\n",
        "X_all = tokenizer.texts_to_matrix(texts, mode='binary')  # Binary BoW\n",
        "\n",
        "# Define architectures\n",
        "architectures = {\n",
        "    \"A_relu_64_32\":     {\"layers\": [64, 32], \"activation\": \"relu\"},\n",
        "    \"B_relu_128_64\":    {\"layers\": [128, 64], \"activation\": \"relu\"},\n",
        "    \"C_tanh_128_64\":    {\"layers\": [128, 64], \"activation\": \"tanh\"},\n",
        "    \"D_relu_64_64_32\":  {\"layers\": [64, 64, 32], \"activation\": \"relu\"},\n",
        "    \"E_linear_256\":     {\"layers\": [256], \"activation\": \"linear\"}\n",
        "}\n",
        "\n",
        "# Cross-validation setup\n",
        "skf = StratifiedKFold(n_splits=2, shuffle=True, random_state=42)\n",
        "\n",
        "# Evaluate each architecture\n",
        "for arch_name, config in architectures.items():\n",
        "    acc_list = []\n",
        "    for train_idx, test_idx in skf.split(X_all, y_all):\n",
        "        X_train, X_test = X_all[train_idx], X_all[test_idx]\n",
        "        y_train, y_test = y_all_cat[train_idx], y_all_cat[test_idx]\n",
        "\n",
        "        model = Sequential()\n",
        "        model.add(Dense(config['layers'][0], input_shape=(maxWordsCount,), activation=config['activation']))\n",
        "        for units in config['layers'][1:]:\n",
        "            model.add(Dense(units, activation=config['activation']))\n",
        "        model.add(Dense(num_classes, activation='softmax'))\n",
        "\n",
        "        model.compile(optimizer='adam', loss='categorical_crossentropy', metrics=['accuracy'])\n",
        "        model.fit(X_train, y_train, epochs=15, batch_size=2, verbose=0)\n",
        "        _, acc = model.evaluate(X_test, y_test, verbose=0)\n",
        "        acc_list.append(acc)\n",
        "\n",
        "    avg_acc = np.mean(acc_list)\n",
        "    print(f\"Architecture {arch_name} → Average accuracy: {avg_acc:.4f}\")"
      ],
      "metadata": {
        "colab": {
          "base_uri": "https://localhost:8080/"
        },
        "id": "Lr8iu3foN0Ua",
        "outputId": "1d020c51-a1f4-42cf-f450-b2e0c8bbb3ce"
      },
      "execution_count": 47,
      "outputs": [
        {
          "output_type": "stream",
          "name": "stdout",
          "text": [
            "Loaded 12 texts from 6 authors\n"
          ]
        },
        {
          "output_type": "stream",
          "name": "stderr",
          "text": [
            "/usr/local/lib/python3.11/dist-packages/keras/src/layers/core/dense.py:87: UserWarning: Do not pass an `input_shape`/`input_dim` argument to a layer. When using Sequential models, prefer using an `Input(shape)` object as the first layer in the model instead.\n",
            "  super().__init__(activity_regularizer=activity_regularizer, **kwargs)\n"
          ]
        },
        {
          "output_type": "stream",
          "name": "stdout",
          "text": [
            "Architecture A_relu_64_32 → Average accuracy: 0.5000\n"
          ]
        },
        {
          "output_type": "stream",
          "name": "stderr",
          "text": [
            "/usr/local/lib/python3.11/dist-packages/keras/src/layers/core/dense.py:87: UserWarning: Do not pass an `input_shape`/`input_dim` argument to a layer. When using Sequential models, prefer using an `Input(shape)` object as the first layer in the model instead.\n",
            "  super().__init__(activity_regularizer=activity_regularizer, **kwargs)\n"
          ]
        },
        {
          "output_type": "stream",
          "name": "stdout",
          "text": [
            "Architecture B_relu_128_64 → Average accuracy: 0.3333\n"
          ]
        },
        {
          "output_type": "stream",
          "name": "stderr",
          "text": [
            "/usr/local/lib/python3.11/dist-packages/keras/src/layers/core/dense.py:87: UserWarning: Do not pass an `input_shape`/`input_dim` argument to a layer. When using Sequential models, prefer using an `Input(shape)` object as the first layer in the model instead.\n",
            "  super().__init__(activity_regularizer=activity_regularizer, **kwargs)\n"
          ]
        },
        {
          "output_type": "stream",
          "name": "stdout",
          "text": [
            "Architecture C_tanh_128_64 → Average accuracy: 0.1667\n"
          ]
        },
        {
          "output_type": "stream",
          "name": "stderr",
          "text": [
            "/usr/local/lib/python3.11/dist-packages/keras/src/layers/core/dense.py:87: UserWarning: Do not pass an `input_shape`/`input_dim` argument to a layer. When using Sequential models, prefer using an `Input(shape)` object as the first layer in the model instead.\n",
            "  super().__init__(activity_regularizer=activity_regularizer, **kwargs)\n"
          ]
        },
        {
          "output_type": "stream",
          "name": "stdout",
          "text": [
            "Architecture D_relu_64_64_32 → Average accuracy: 0.4167\n"
          ]
        },
        {
          "output_type": "stream",
          "name": "stderr",
          "text": [
            "/usr/local/lib/python3.11/dist-packages/keras/src/layers/core/dense.py:87: UserWarning: Do not pass an `input_shape`/`input_dim` argument to a layer. When using Sequential models, prefer using an `Input(shape)` object as the first layer in the model instead.\n",
            "  super().__init__(activity_regularizer=activity_regularizer, **kwargs)\n"
          ]
        },
        {
          "output_type": "stream",
          "name": "stdout",
          "text": [
            "Architecture E_linear_256 → Average accuracy: 0.4167\n"
          ]
        }
      ]
    },
    {
      "cell_type": "markdown",
      "source": [
        "**В. Запустите нейронку c Embbedding при maxWordsCount = 10000, поменяйте размер Embedding пространства**\n",
        "\n",
        "1. 10\n",
        "\n",
        "2. 50\n",
        "\n",
        "3. 200"
      ],
      "metadata": {
        "id": "itOKxcVxO4iy"
      }
    },
    {
      "cell_type": "code",
      "source": [
        "# Load data\n",
        "texts, classes = extract_texts_and_authors_from_files('/content/texts')\n",
        "print(f\"✅ Loaded {len(texts)} texts from {len(set(classes))} authors\")\n",
        "\n",
        "# Encode labels\n",
        "encoder = LabelEncoder()\n",
        "y_all = encoder.fit_transform(classes)\n",
        "y_all_cat = to_categorical(y_all)\n",
        "num_classes = y_all_cat.shape[1]\n",
        "\n",
        "# Tokenization (prepare sequences)\n",
        "maxWordsCount = 10000\n",
        "maxTextLen = 200  # max sequence length\n",
        "tokenizer = Tokenizer(num_words=maxWordsCount, oov_token=\"unknown\")\n",
        "tokenizer.fit_on_texts(texts)\n",
        "X_seq = tokenizer.texts_to_sequences(texts)\n",
        "X_all = pad_sequences(X_seq, maxlen=maxTextLen)\n",
        "\n",
        "# STEP 2: Try different embedding sizes\n",
        "embedding_dims = [10, 50, 200]\n",
        "\n",
        "for emb_dim in embedding_dims:\n",
        "    acc_list = []\n",
        "    skf = StratifiedKFold(n_splits=2, shuffle=True, random_state=42)\n",
        "\n",
        "    for train_idx, test_idx in skf.split(X_all, y_all):\n",
        "        X_train, X_test = X_all[train_idx], X_all[test_idx]\n",
        "        y_train, y_test = y_all_cat[train_idx], y_all_cat[test_idx]\n",
        "\n",
        "        model = Sequential()\n",
        "        model.add(Embedding(input_dim=maxWordsCount, output_dim=emb_dim, input_length=maxTextLen))\n",
        "        model.add(GlobalAveragePooling1D())  # Average across sequence\n",
        "        model.add(Dense(64, activation='relu'))\n",
        "        model.add(Dropout(0.3))\n",
        "        model.add(Dense(num_classes, activation='softmax'))\n",
        "\n",
        "        model.compile(optimizer='adam', loss='categorical_crossentropy', metrics=['accuracy'])\n",
        "        model.fit(X_train, y_train, epochs=15, batch_size=2, verbose=0)\n",
        "        _, acc = model.evaluate(X_test, y_test, verbose=0)\n",
        "        acc_list.append(acc)\n",
        "\n",
        "    avg_acc = np.mean(acc_list)\n",
        "    print(f\"✅ Embedding dim = {emb_dim} → Average accuracy: {avg_acc:.4f}\")"
      ],
      "metadata": {
        "id": "Z1uMexSYO7WD",
        "colab": {
          "base_uri": "https://localhost:8080/"
        },
        "outputId": "f6f0eded-d455-4dcb-e71e-8ccf2948c5ef"
      },
      "execution_count": 49,
      "outputs": [
        {
          "output_type": "stream",
          "name": "stdout",
          "text": [
            "✅ Loaded 12 texts from 6 authors\n"
          ]
        },
        {
          "output_type": "stream",
          "name": "stderr",
          "text": [
            "/usr/local/lib/python3.11/dist-packages/keras/src/layers/core/embedding.py:90: UserWarning: Argument `input_length` is deprecated. Just remove it.\n",
            "  warnings.warn(\n"
          ]
        },
        {
          "output_type": "stream",
          "name": "stdout",
          "text": [
            "✅ Embedding dim = 10 → Average accuracy: 0.3333\n"
          ]
        },
        {
          "output_type": "stream",
          "name": "stderr",
          "text": [
            "/usr/local/lib/python3.11/dist-packages/keras/src/layers/core/embedding.py:90: UserWarning: Argument `input_length` is deprecated. Just remove it.\n",
            "  warnings.warn(\n"
          ]
        },
        {
          "output_type": "stream",
          "name": "stdout",
          "text": [
            "✅ Embedding dim = 50 → Average accuracy: 0.2500\n"
          ]
        },
        {
          "output_type": "stream",
          "name": "stderr",
          "text": [
            "/usr/local/lib/python3.11/dist-packages/keras/src/layers/core/embedding.py:90: UserWarning: Argument `input_length` is deprecated. Just remove it.\n",
            "  warnings.warn(\n"
          ]
        },
        {
          "output_type": "stream",
          "name": "stdout",
          "text": [
            "✅ Embedding dim = 200 → Average accuracy: 0.2500\n"
          ]
        }
      ]
    },
    {
      "cell_type": "code",
      "source": [
        "import matplotlib.pyplot as plt\n",
        "\n",
        "# ✏️ Điền kết quả trung bình đã ghi nhận được (ví dụ từ log in ra)\n",
        "results_A = {\n",
        "    \"BoW_100\": 0.0833,\n",
        "    \"BoW_1000\": 0.2500,\n",
        "    \"BoW_10000\": 0.4167\n",
        "}\n",
        "\n",
        "results_B = {\n",
        "    \"Arch_A (64-32 relu)\": 0.5000,\n",
        "    \"Arch_B (128-64 relu)\": 0.3333,\n",
        "    \"Arch_C (128-64 tanh)\": 0.1667,\n",
        "    \"Arch_D (64-64-32 relu)\": 0.4167,\n",
        "    \"Arch_E (256 linear)\": 0.4167\n",
        "}\n",
        "\n",
        "results_C = {\n",
        "    \"Embed_10\": 0.3333,\n",
        "    \"Embed_50\": 0.2500,\n",
        "    \"Embed_200\": 0.2500\n",
        "}\n",
        "\n",
        "# Gộp dữ liệu\n",
        "all_labels = list(results_A.keys()) + list(results_B.keys()) + list(results_C.keys())\n",
        "all_scores = list(results_A.values()) + list(results_B.values()) + list(results_C.values())\n",
        "\n",
        "# Tạo biểu đồ\n",
        "plt.figure(figsize=(12, 6))\n",
        "bars = plt.bar(all_labels, all_scores)\n",
        "\n",
        "# Tô màu theo nhóm\n",
        "for i, label in enumerate(all_labels):\n",
        "    if \"BoW\" in label:\n",
        "        bars[i].set_color(\"steelblue\")\n",
        "    elif \"Arch\" in label:\n",
        "        bars[i].set_color(\"orange\")\n",
        "    elif \"Embed\" in label:\n",
        "        bars[i].set_color(\"seagreen\")\n",
        "\n",
        "plt.title(\"Accuracy Comparison of All Models (A, B, C)\", fontsize=14)\n",
        "plt.ylabel(\"Average Accuracy\", fontsize=12)\n",
        "plt.xticks(rotation=45, ha='right')\n",
        "plt.ylim(0, 1.0)\n",
        "plt.grid(axis='y', linestyle='--', alpha=0.7)\n",
        "plt.tight_layout()\n",
        "plt.show()\n"
      ],
      "metadata": {
        "id": "w5yEaOTmZVH-",
        "outputId": "e81ce032-d83f-428a-a38a-45317320dad8",
        "colab": {
          "base_uri": "https://localhost:8080/",
          "height": 607
        }
      },
      "execution_count": 51,
      "outputs": [
        {
          "output_type": "display_data",
          "data": {
            "text/plain": [
              "<Figure size 1200x600 with 1 Axes>"
            ],
            "image/png": "[encoded data removed]"
          },
          "metadata": {}
        }
      ]
    }
  ]
}